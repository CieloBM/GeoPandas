{
 "cells": [
  {
   "cell_type": "markdown",
   "metadata": {},
   "source": [
    "## GeoPandas Demo: Get Counties\n",
    "After the quick introduction, this script explores using GeoPandas in a difference context. Specficially, it looks at the mashup of `GeoPandas` and the `Requests` package to enable us to access features served in an ArcGIS Map Service as a GeoPandas dataframe. "
   ]
  },
  {
   "cell_type": "code",
   "execution_count": null,
   "metadata": {
    "collapsed": true
   },
   "outputs": [],
   "source": [
    "import requests\n",
    "import pandas as pd\n",
    "import geopandas as gpd\n",
    "\n",
    "%matplotlib inline"
   ]
  },
  {
   "cell_type": "markdown",
   "metadata": {},
   "source": [
    "### Fetching the data\n",
    "* Build the request\n",
    "* Send the request, receive the response"
   ]
  },
  {
   "cell_type": "code",
   "execution_count": null,
   "metadata": {
    "collapsed": true
   },
   "outputs": [],
   "source": [
    "#Build the request and parameters to fetch county features\n",
    "#  from the NOAA ArcGIS map server end point\n",
    "stateFIPS = '37' #This is NC\n",
    "\n",
    "url = 'https://nowcoast.noaa.gov/arcgis/rest/services/nowcoast/mapoverlays_political/MapServer/find'\n",
    "params = {'searchText':stateFIPS,\n",
    "          'contains':'true',\n",
    "          'searchFields':'STATEFP',\n",
    "          'sr':'',\n",
    "          'layers':'2',\n",
    "          'layerDefs':'',\n",
    "          'returnGeometry':'true',\n",
    "          'maxAllowableOffset':'',\n",
    "          'geometryPrecision':'',\n",
    "          'dynamicLayers':'',\n",
    "          'returnZ':'false',\n",
    "          'returnM':'false',\n",
    "          'gdbVersion':'',\n",
    "          'returnUnformattedValues':'false',\n",
    "          'returnFieldName':'false',\n",
    "          'datumTransformations':'',\n",
    "          'layerParameterValues':'',\n",
    "          'mapRangeValues':'',\n",
    "          'layerRangeValues':'',\n",
    "          'f':'json'}"
   ]
  },
  {
   "cell_type": "code",
   "execution_count": null,
   "metadata": {
    "collapsed": true
   },
   "outputs": [],
   "source": [
    "#Fetch the data\n",
    "response = requests.get(url,params)"
   ]
  },
  {
   "cell_type": "markdown",
   "metadata": {},
   "source": [
    "### Examining the response\n",
    "* Convert the response to a JSON object\n",
    "* Examine its structure\n",
    "* Extract the `attributes` and `geometry` elements."
   ]
  },
  {
   "cell_type": "code",
   "execution_count": null,
   "metadata": {
    "collapsed": true
   },
   "outputs": [],
   "source": [
    "#Convert to a JSON object (i.e. a dictionary)\n",
    "respons_js = response.json()"
   ]
  },
  {
   "cell_type": "code",
   "execution_count": null,
   "metadata": {
    "collapsed": true
   },
   "outputs": [],
   "source": [
    "#The 'results' object contains a record for each county returned\n",
    "results = respons_js['results']\n",
    "len(results)"
   ]
  },
  {
   "cell_type": "code",
   "execution_count": null,
   "metadata": {
    "collapsed": true
   },
   "outputs": [],
   "source": [
    "#Within each item in the results object are the following items\n",
    "results[0].keys()"
   ]
  },
  {
   "cell_type": "code",
   "execution_count": null,
   "metadata": {
    "collapsed": true
   },
   "outputs": [],
   "source": [
    "#The 'attributes' item contains the feature attributes\n",
    "results[0]['attributes']"
   ]
  },
  {
   "cell_type": "code",
   "execution_count": null,
   "metadata": {
    "collapsed": true
   },
   "outputs": [],
   "source": [
    "#And the geometry object contains the shape\n",
    "results[0]['geometry']"
   ]
  },
  {
   "cell_type": "markdown",
   "metadata": {},
   "source": [
    "### Convert the elements to dataFrames\n",
    "* Creating a dataFrame from the Results object\n",
    "* \"Exploding\" the values in the `attributes` and `geometry` columns\n",
    "* Concatenating dataFrames lengthwise (adding columns)"
   ]
  },
  {
   "cell_type": "code",
   "execution_count": null,
   "metadata": {
    "collapsed": true
   },
   "outputs": [],
   "source": [
    "#Create a dataFrame from the results, \n",
    "#  keeping just the attributes and geometry objects\n",
    "df = pd.DataFrame(results,columns=('attributes','geometry'))\n",
    "df.head()"
   ]
  },
  {
   "cell_type": "code",
   "execution_count": null,
   "metadata": {
    "collapsed": true
   },
   "outputs": [],
   "source": [
    "#Explode the dictionary values into fields\n",
    "dfCounties = df['attributes'].apply(pd.Series)\n",
    "dfGeom = df['geometry'].apply(pd.Series)"
   ]
  },
  {
   "cell_type": "code",
   "execution_count": null,
   "metadata": {
    "collapsed": true
   },
   "outputs": [],
   "source": [
    "#Combine the two\n",
    "dfAll = pd.concat((dfCounties,dfGeom),axis='rows')\n",
    "dfAll.columns"
   ]
  },
  {
   "cell_type": "markdown",
   "metadata": {},
   "source": [
    "### Converting the geometry coordinates to a geometric feature\n",
    "* Exploring the 'rings' object\n",
    "* Exploring the `shapely` package\n",
    "* Using shapely to create features\n",
    "* Converting the dataFrame to geodataFrame\n",
    "* Plotting the output"
   ]
  },
  {
   "cell_type": "code",
   "execution_count": null,
   "metadata": {
    "collapsed": true
   },
   "outputs": [],
   "source": [
    "#Demo creating a shapely polygnon from the JSON ring\n",
    "rings = dfAll['rings'][0]\n",
    "print \"There is/are {} ring(s)\".format(len(rings))\n",
    "print \"There are {} vertices in the first ring\".format(len(rings[0]))\n",
    "print \"The first vertex is at {}\".format(rings[0][0])"
   ]
  },
  {
   "cell_type": "code",
   "execution_count": null,
   "metadata": {
    "collapsed": true
   },
   "outputs": [],
   "source": [
    "from shapely.geometry import LinearRing\n",
    "from shapely.geometry import Polygon\n",
    "ring = rings[0]\n",
    "r = LinearRing(ring)\n",
    "s = Polygon(r)"
   ]
  },
  {
   "cell_type": "code",
   "execution_count": null,
   "metadata": {
    "collapsed": true
   },
   "outputs": [],
   "source": [
    "#https://shapely.readthedocs.io/en/latest/manual.html#polygons\n",
    "from shapely.geometry import Polygon\n",
    "from shapely.geometry import LinearRing\n",
    "def polyFromRing(ring):\n",
    "    r = LinearRing(ring)\n",
    "    s = Polygon(r)\n",
    "    return r\n",
    "dfAll['geometry']=dfAll.apply(lambda x: Polygon(x.rings[0]),axis=1)"
   ]
  },
  {
   "cell_type": "code",
   "execution_count": null,
   "metadata": {
    "collapsed": true
   },
   "outputs": [],
   "source": [
    "gdf=gpd.GeoDataFrame(dfAll)"
   ]
  },
  {
   "cell_type": "code",
   "execution_count": null,
   "metadata": {
    "collapsed": true
   },
   "outputs": [],
   "source": [
    "gdf[gdf['NAME'] == 'Durham'].plot();"
   ]
  },
  {
   "cell_type": "code",
   "execution_count": null,
   "metadata": {
    "collapsed": true
   },
   "outputs": [],
   "source": [
    "gdf.to_csv(\"counties_{}.csv\".format(stateFIPS))"
   ]
  }
 ],
 "metadata": {
  "kernelspec": {
   "display_name": "Python 2",
   "language": "python",
   "name": "python2"
  },
  "language_info": {
   "codemirror_mode": {
    "name": "ipython",
    "version": 2
   },
   "file_extension": ".py",
   "mimetype": "text/x-python",
   "name": "python",
   "nbconvert_exporter": "python",
   "pygments_lexer": "ipython2",
   "version": "2.7.13"
  }
 },
 "nbformat": 4,
 "nbformat_minor": 2
}
