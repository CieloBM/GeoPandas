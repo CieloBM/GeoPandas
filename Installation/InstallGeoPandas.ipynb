{
 "cells": [
  {
   "cell_type": "code",
   "execution_count": null,
   "metadata": {},
   "outputs": [],
   "source": [
    "#Download the zip containing all the wheels\n",
    "import os, urllib\n",
    "if not os.path.exists(\"wheels\"):\n",
    "    os.mkdir(\"wheels\")\n",
    "urllib.urlretrieve(\"https://public.boxcloud.com/d/1/th7Mo1fW9GeCcaqvQlrxx_Z_iIzZ0w8Ta98K11lMDhV30UVgUgfSXrqaHPK3_C_drs-igiSJ6k4DhKORg4t_2tr_QaHe67X77US3knQBtVZR-gITAqcWKXzCgIxtblfq_BjjVMkoo--aVbmHpfmDg7hYkArRJVhvfZr5iV2edtdLe4XE9sMLqAwd3EEE3t5e7oJhYCW0xWsRtXKbtxoSBDX6VbB4gLZhHgiLT6K6ydl29VkEWU9yqHnfce1y_077PsK76YBIjQjvaQOdagwKJzvp6nybxX6fYP7c3URBNVGMFdSfO8dRv0C5BPxnI-iY2cifpjD5IImoo2kGS3Uv_YVYKk6bfZuVwj2HsB5WjwgqNfEOEacF7JK_Llo2WCNAnfge1gbmqTK8NAfd6tE4gLTqlWUzSYIdnZJpueEEmuwWWIPtTJx48N0fFVoP0YaOMNTXbqeWZch1J3CLI1ZWNZ41chL0HXzQHj2V9NKLSScQ2NqWmfDN8LWBhZxLWsQkP-c2uO3mP9EUdHRtoScTnOPQKZCua_tj4Hvdwjd2o2bLlS-SXYEpm9iyxlQxhogjBSyACTU7tFYJwVjK4HZA5xHahfusAjQyfFXdO5rLXuj_BfY-1JsbS5VUrdQttT-b2UnKf4AR5yzXJs6QrVc6QQIcvmuIjE5czR8lBxMRGVpa2q7QyP3oaJNTOV1eRWZJdFdobQxfekEe0M4GVnOJUA8gG8b8_fPLUO6G5HHtp90G5v_2Qkl3LMq1hvGKX9628IwcWaxUXxuYBf-UYXAiRKJt0MYHcqlZaqCgFONEV_u0ITCiOOaen52-_Tjix6FE1XVDdY1MewJ0bQNv5fTtNbq2eDrZgC2U1xNQVe_zaJo7JkH9AZzQWato6522Ry_kYOYAhwMVtLhGrlJnx1unnxGD-eXkPsrkR327MCcNEZGvo_0G53DU86NODGnO57SdYAkgMGaxGRScSl_PXlr-ouIR7UEaTq19NHOqOi5TK3vIpx_1p6DpXTNztRJ4oHwN8Bywr4VOK5PNsXOBuIHD0ZzvfG0C1ak0esLklKQaEXUks-6ST7yRP3zn3iSHw8-KYqRcJXrPVuTNlbytgHZS_zpk2Q../download\",\n",
    "                   \"WheelsForGeoPandas.zip\");"
   ]
  },
  {
   "cell_type": "code",
   "execution_count": null,
   "metadata": {
    "collapsed": true
   },
   "outputs": [],
   "source": [
    "#Unzip the file\n",
    "import zipfile\n",
    "zipObj = zipfile.ZipFile(\"WheelsForGeoPandas.zip\")\n",
    "zipObj.extractall(path=\"wheels\")"
   ]
  },
  {
   "cell_type": "code",
   "execution_count": null,
   "metadata": {
    "collapsed": true
   },
   "outputs": [],
   "source": [
    "#Installer files\n",
    "import sys, os, glob\n",
    "GDALwhl = glob.glob(\"GDAL*.whl\")\n",
    "FIONAwhl = glob.glob(\"FIONA*.whl\")"
   ]
  },
  {
   "cell_type": "code",
   "execution_count": null,
   "metadata": {},
   "outputs": [],
   "source": [
    "import pip\n",
    "pip.main(['install','GDAL-2.1.3-cp27-cp27m-win32.whl'])"
   ]
  },
  {
   "cell_type": "code",
   "execution_count": null,
   "metadata": {},
   "outputs": [],
   "source": [
    "pip.main(['install','Fiona-1.7.7-cp27-cp27m-win32.whl'])"
   ]
  },
  {
   "cell_type": "code",
   "execution_count": null,
   "metadata": {},
   "outputs": [],
   "source": [
    "pip.main(['install','pyproj-1.9.5.1-cp27-cp27m-win32.whl'])"
   ]
  },
  {
   "cell_type": "code",
   "execution_count": null,
   "metadata": {},
   "outputs": [],
   "source": [
    "#Install r-tree\n",
    "pip.main(['install','Rtree-0.8.3-cp27-cp27m-win32.whl'])"
   ]
  },
  {
   "cell_type": "code",
   "execution_count": null,
   "metadata": {},
   "outputs": [],
   "source": [
    "#Install shapely\n",
    "pip.main(['install','Shapely-1.5.17-cp27-cp27m-win32.whl'])"
   ]
  },
  {
   "cell_type": "code",
   "execution_count": null,
   "metadata": {},
   "outputs": [],
   "source": [
    "curEnv = os.environ.get(\"PATH\")\n",
    "newEnv = curEnv + ';c:\\\\python27\\\\arcgis10.5\\\\lib\\\\site-packages\\\\osgeo'\n",
    "os.environ['PATH'] = newEnv"
   ]
  },
  {
   "cell_type": "code",
   "execution_count": null,
   "metadata": {
    "collapsed": true
   },
   "outputs": [],
   "source": [
    "import pip\n",
    "pip.main(['install','Shapely-1.5.17-cp27-cp27m-win32.whl'])"
   ]
  },
  {
   "cell_type": "code",
   "execution_count": null,
   "metadata": {},
   "outputs": [],
   "source": [
    "import pip\n",
    "pip.main(['install','libspatialindex'])"
   ]
  },
  {
   "cell_type": "code",
   "execution_count": null,
   "metadata": {},
   "outputs": [],
   "source": [
    "import rtree"
   ]
  },
  {
   "cell_type": "code",
   "execution_count": null,
   "metadata": {},
   "outputs": [],
   "source": [
    "import geopandas"
   ]
  }
 ],
 "metadata": {
  "kernelspec": {
   "display_name": "Python 2",
   "language": "python",
   "name": "python2"
  },
  "language_info": {
   "codemirror_mode": {
    "name": "ipython",
    "version": 2
   },
   "file_extension": ".py",
   "mimetype": "text/x-python",
   "name": "python",
   "nbconvert_exporter": "python",
   "pygments_lexer": "ipython2",
   "version": "2.7.13"
  }
 },
 "nbformat": 4,
 "nbformat_minor": 2
}
