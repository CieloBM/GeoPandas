{
 "cells": [
  {
   "cell_type": "markdown",
   "metadata": {},
   "source": [
    "## GeoPandas Demo: Get Counties\n",
    "This example demonstrates how to grab data from an ArcGIS MapService and pull it into a GeoPandas data frame."
   ]
  },
  {
   "cell_type": "code",
   "execution_count": null,
   "metadata": {
    "collapsed": true
   },
   "outputs": [],
   "source": [
    "import requests\n",
    "import pandas as pd\n",
    "import geopandas as gpd\n",
    "\n",
    "from shapely.geometry import LinearRing\n",
    "from shapely.geometry import Polygon\n",
    "\n",
    "%matplotlib inline"
   ]
  },
  {
   "cell_type": "code",
   "execution_count": null,
   "metadata": {
    "collapsed": true
   },
   "outputs": [],
   "source": [
    "#Specify the state FIPS to extact\n",
    "stateFIPS = '37' #This is NC"
   ]
  },
  {
   "cell_type": "code",
   "execution_count": null,
   "metadata": {
    "collapsed": true
   },
   "outputs": [],
   "source": [
    "#Build the request and parameters to fetch county features\n",
    "#  from the NOAA ArcGIS map server end point\n",
    "url = 'https://nowcoast.noaa.gov/arcgis/rest/services/nowcoast/mapoverlays_political/MapServer/find'\n",
    "params = {'searchText':stateFIPS,\n",
    "          'contains':'true',\n",
    "          'searchFields':'STATEFP',\n",
    "          'sr':'',\n",
    "          'layers':'2',\n",
    "          'layerDefs':'',\n",
    "          'returnGeometry':'true',\n",
    "          'maxAllowableOffset':'',\n",
    "          'geometryPrecision':'',\n",
    "          'dynamicLayers':'',\n",
    "          'returnZ':'false',\n",
    "          'returnM':'false',\n",
    "          'gdbVersion':'',\n",
    "          'returnUnformattedValues':'false',\n",
    "          'returnFieldName':'false',\n",
    "          'datumTransformations':'',\n",
    "          'layerParameterValues':'',\n",
    "          'mapRangeValues':'',\n",
    "          'layerRangeValues':'',\n",
    "          'f':'json'}"
   ]
  },
  {
   "cell_type": "code",
   "execution_count": null,
   "metadata": {
    "collapsed": true
   },
   "outputs": [],
   "source": [
    "#Fetch the data\n",
    "response = requests.get(url,params)"
   ]
  },
  {
   "cell_type": "code",
   "execution_count": null,
   "metadata": {
    "collapsed": true
   },
   "outputs": [],
   "source": [
    "#Convert to a JSON object (i.e. a dictionary)\n",
    "results = response.json()['results']"
   ]
  },
  {
   "cell_type": "code",
   "execution_count": null,
   "metadata": {
    "collapsed": true
   },
   "outputs": [],
   "source": [
    "#Create a dataFrame from the results, \n",
    "#  keeping just the attributes and geometry objects\n",
    "df = pd.DataFrame(results,columns=('attributes','geometry'))"
   ]
  },
  {
   "cell_type": "code",
   "execution_count": null,
   "metadata": {
    "collapsed": true
   },
   "outputs": [],
   "source": [
    "#Explode the dictionary values into fields\n",
    "dfCounties = df['attributes'].apply(pd.Series)\n",
    "dfGeom = df['geometry'].apply(pd.Series)"
   ]
  },
  {
   "cell_type": "code",
   "execution_count": null,
   "metadata": {
    "collapsed": true
   },
   "outputs": [],
   "source": [
    "#Combine the two\n",
    "dfAll = pd.concat((dfCounties,dfGeom),axis='rows')"
   ]
  },
  {
   "cell_type": "code",
   "execution_count": null,
   "metadata": {
    "collapsed": true
   },
   "outputs": [],
   "source": [
    "#Define a function to convert a JSON 'ring' to a shapely polygon \n",
    "def polyFromRing(ring):\n",
    "    r = LinearRing(ring)\n",
    "    s = Polygon(r)\n",
    "    return r"
   ]
  },
  {
   "cell_type": "code",
   "execution_count": null,
   "metadata": {
    "collapsed": true
   },
   "outputs": [],
   "source": [
    "#Iterate through all records and create a 'geometry object'\n",
    "dfAll['geometry']=dfAll.apply(lambda x: Polygon(x.rings[0]),axis=1)"
   ]
  },
  {
   "cell_type": "code",
   "execution_count": null,
   "metadata": {
    "collapsed": true
   },
   "outputs": [],
   "source": [
    "#Convert the pandas dataFrame to a geopandas data frame\n",
    "gdf=gpd.GeoDataFrame(dfAll)"
   ]
  },
  {
   "cell_type": "code",
   "execution_count": null,
   "metadata": {
    "collapsed": true
   },
   "outputs": [],
   "source": [
    "#Write to a csv file\n",
    "gdf.to_csv(\"../Data/counties_{}.csv\".format(stateFIPS))"
   ]
  }
 ],
 "metadata": {
  "kernelspec": {
   "display_name": "Python 2",
   "language": "python",
   "name": "python2"
  },
  "language_info": {
   "codemirror_mode": {
    "name": "ipython",
    "version": 2
   },
   "file_extension": ".py",
   "mimetype": "text/x-python",
   "name": "python",
   "nbconvert_exporter": "python",
   "pygments_lexer": "ipython2",
   "version": "2.7.13"
  }
 },
 "nbformat": 4,
 "nbformat_minor": 2
}
