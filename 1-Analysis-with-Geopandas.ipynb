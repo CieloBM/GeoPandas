{
 "cells": [
  {
   "cell_type": "markdown",
   "metadata": {},
   "source": [
    "# Performing analysis with GeoPandas\n",
    "http://geopandas.org/\n",
    "\n",
    "This notebook wades gently into the world of GeoPandas and also serves as a review of several Pandas operations. Specifically we examine the following:\n",
    "* Reading & writing shapefiles into a GeoPandas dataFrame\n",
    "* Exploring the GeoPandas dataFrame\n",
    " * Exposing the number of features \n",
    " * Revealing the data types of each column \n",
    " * Exploring the `geometry` data type\n",
    "* Quick view of plotting in GeoPandas\n",
    "* Quick view of geoprocessing in GeoPandas"
   ]
  },
  {
   "cell_type": "markdown",
   "metadata": {},
   "source": [
    "### Install the package and enable inline plots"
   ]
  },
  {
   "cell_type": "code",
   "execution_count": null,
   "metadata": {},
   "outputs": [],
   "source": [
    "#import the package\n",
    "import geopandas as gpd\n",
    "\n",
    "#enable plots to appear in the notebook\n",
    "%matplotlib inline"
   ]
  },
  {
   "cell_type": "markdown",
   "metadata": {},
   "source": [
    "### ►_Fix required_◄\n",
    "You need to run this code block to fix an issue with the `pyproj` module used by GeoPandas. Be sure the `envName` variable reflects the enviroment you are using. \n",
    "\n",
    "For more on the issue see: \n",
    "https://github.com/geopandas/geopandas/issues/830"
   ]
  },
  {
   "cell_type": "code",
   "execution_count": null,
   "metadata": {},
   "outputs": [],
   "source": [
    "#Set the the Conda environment you are using\n",
    "envName = 'my_env'\n",
    "\n",
    "#Fix the issue with pyproj\n",
    "import os\n",
    "localappPth = os.environ.get('localappdata', '')\n",
    "os.environ[\"PROJ_LIB\"] = \"{}\\\\ESRI\\\\conda\\\\envs\\\\{}\\\\Library\\\\share\".format(localappPth,envName)"
   ]
  },
  {
   "cell_type": "markdown",
   "metadata": {},
   "source": [
    "### Read a shapefile into a _GeoDataframe_\n",
    "GeoPandas can read shapefiles directly. Behind the scenes, this operation is using the `GDAL` package which contains the binaries capable of understanding geospatial data, the `fiona` package, which allows Python to interact nicely with `GDAL` libraries, and the `shapely` package which has functions for operating with feature classes in a Pythonic way. GeoPandas coordinate reference systems can use the \"European Petroleum Survey Group\" (EPSG) codes as shorthand for various standard systems. \n",
    "\n",
    "Complete documentation on the GeoDataframe is here: http://geopandas.org/data_structures.html#geodataframe"
   ]
  },
  {
   "cell_type": "code",
   "execution_count": null,
   "metadata": {},
   "outputs": [],
   "source": [
    "#read in the HUC12.shp feature class\n",
    "gdf = gpd.read_file('./Data/HUC12.shp')"
   ]
  },
  {
   "cell_type": "code",
   "execution_count": null,
   "metadata": {},
   "outputs": [],
   "source": [
    "#How many features in the dataset?\n",
    "len(gdf)"
   ]
  },
  {
   "cell_type": "code",
   "execution_count": null,
   "metadata": {},
   "outputs": [],
   "source": [
    "#What coordinate reference system is used? Check http://epsg.io for what this code is\n",
    "gdf.crs"
   ]
  },
  {
   "cell_type": "markdown",
   "metadata": {},
   "source": [
    "→ If the crs returns an 'epsg' code you can generate a URL to look it up..."
   ]
  },
  {
   "cell_type": "code",
   "execution_count": null,
   "metadata": {},
   "outputs": [],
   "source": [
    "#Get the epsg code from the crs\n",
    "epsg = gdf.crs['init'].split(':')[1]\n",
    "#Generate and print the URL, which you can click on...\n",
    "print(\"http://epsg.io/{}\".format(epsg))"
   ]
  },
  {
   "cell_type": "code",
   "execution_count": null,
   "metadata": {},
   "outputs": [],
   "source": [
    "#show the geometry types in this geodataframe\n",
    "gdf.type.unique()"
   ]
  },
  {
   "cell_type": "code",
   "execution_count": null,
   "metadata": {},
   "outputs": [],
   "source": [
    "#examine the attributes for the first feature\n",
    "gdf.iloc[0]"
   ]
  },
  {
   "cell_type": "markdown",
   "metadata": {},
   "source": [
    "### Projections in GeoPandas\n",
    "We can reproject our data in GeoPandas. Here we'll reproject our NAD83 data to UTM Zone 17, which has an EPSG code of `26917`. "
   ]
  },
  {
   "cell_type": "code",
   "execution_count": null,
   "metadata": {},
   "outputs": [],
   "source": [
    "gdfUTM  = gdf.to_crs({'init':'epsg:26917'})"
   ]
  },
  {
   "cell_type": "markdown",
   "metadata": {},
   "source": [
    "### Exploring the `geometry` objects in a GeoPandas dataframe\n",
    "The key to Geopandas ability to work with geospatial data is by adding a new data type to the standard Pandas dataFrame: this is stored in the `geometry` field. Let's explore this field. \n",
    "\n",
    "Complete documentation on the geometry object is here: http://geopandas.org/geometric_manipulations.html"
   ]
  },
  {
   "cell_type": "code",
   "execution_count": null,
   "metadata": {},
   "outputs": [],
   "source": [
    "#show the first 5 values in the geometry field: this is actually a GeoSeries...\n",
    "gdfUTM['geometry'][0:5]"
   ]
  },
  {
   "cell_type": "code",
   "execution_count": null,
   "metadata": {},
   "outputs": [],
   "source": [
    "#show just the first value - it appears as a shape\n",
    "gdfUTM['geometry'][0]"
   ]
  },
  {
   "cell_type": "markdown",
   "metadata": {},
   "source": [
    "Now let's save that one geometry object, a polygon in this case to variable and examine what GeoPandas allows us to do with it. "
   ]
  },
  {
   "cell_type": "code",
   "execution_count": null,
   "metadata": {},
   "outputs": [],
   "source": [
    "#Extract one feature geometry to a variable; what is its datatype?\n",
    "thePoly = gdfUTM['geometry'][0]\n",
    "type(thePoly)"
   ]
  },
  {
   "cell_type": "code",
   "execution_count": null,
   "metadata": {},
   "outputs": [],
   "source": [
    "#Show thePoly\n",
    "thePoly"
   ]
  },
  {
   "cell_type": "code",
   "execution_count": null,
   "metadata": {},
   "outputs": [],
   "source": [
    "#Show the area and perimeter length\n",
    "theArea = thePoly.area\n",
    "thePerim = thePoly.length\n",
    "print (\"Area (m2):\",int(theArea))\n",
    "print (\"Permeter (m):\",int(thePerim))"
   ]
  },
  {
   "cell_type": "code",
   "execution_count": null,
   "metadata": {},
   "outputs": [],
   "source": [
    "#Convert the polygon's boundary to a linestring (i.e. a line feature)\n",
    "theBoundary = thePoly.boundary\n",
    "type(theBoundary)"
   ]
  },
  {
   "cell_type": "code",
   "execution_count": null,
   "metadata": {},
   "outputs": [],
   "source": [
    "#Show the \n",
    "theBoundary"
   ]
  },
  {
   "cell_type": "code",
   "execution_count": null,
   "metadata": {},
   "outputs": [],
   "source": [
    "#Create the centroid of the feature\n",
    "theCentroid = thePoly.centroid\n",
    "type(theCentroid)"
   ]
  },
  {
   "cell_type": "code",
   "execution_count": null,
   "metadata": {},
   "outputs": [],
   "source": [
    "theCentroid"
   ]
  },
  {
   "cell_type": "code",
   "execution_count": null,
   "metadata": {},
   "outputs": [],
   "source": [
    "#Buffer the polygon 100m\n",
    "thePoly.buffer(100)"
   ]
  },
  {
   "cell_type": "markdown",
   "metadata": {},
   "source": [
    "→ Other feature transformations to try: `convex_hull`, `envelope`, `simplify`..."
   ]
  },
  {
   "cell_type": "markdown",
   "metadata": {},
   "source": [
    "#### Distance analyses\n",
    "We can also compute distances fairly easily with GeoPandas objects. Here we'll compute the distance of each feature to the center point of all features."
   ]
  },
  {
   "cell_type": "code",
   "execution_count": null,
   "metadata": {},
   "outputs": [],
   "source": [
    "#Compute the center of all features combined\n",
    "theCenter = gdfUTM.unary_union.centroid #distance(durhamPtDD)"
   ]
  },
  {
   "cell_type": "code",
   "execution_count": null,
   "metadata": {},
   "outputs": [],
   "source": [
    "#Compute the distance of each feature to this center point & show the mean\n",
    "theDistances = gdfUTM.distance(theCenter)/1000\n",
    "theDistances.mean()"
   ]
  },
  {
   "cell_type": "code",
   "execution_count": null,
   "metadata": {},
   "outputs": [],
   "source": [
    "#Plot a histogram of values\n",
    "theDistances.hist(figsize=(15,3));"
   ]
  },
  {
   "cell_type": "markdown",
   "metadata": {},
   "source": [
    "### A more complex analyis\n",
    "Here we will buffer the centroid of a feature and then intersect that with the feature. \n",
    "\n",
    "* We begin by selecting a feature. We'll pick on the Elk Creek HUC..."
   ]
  },
  {
   "cell_type": "code",
   "execution_count": null,
   "metadata": {},
   "outputs": [],
   "source": [
    "#Select a feature by an attribute\n",
    "hucMask = gdfUTM['HU_12_NAME'] == 'Elk Creek'\n",
    "gdfHUC = gdfUTM[hucMask]\n",
    "type(gdfHUC)"
   ]
  },
  {
   "cell_type": "code",
   "execution_count": null,
   "metadata": {},
   "outputs": [],
   "source": [
    "gdfHUC"
   ]
  },
  {
   "cell_type": "markdown",
   "metadata": {},
   "source": [
    "►This approach is slightly different than in the above example (`thePoly = gdfUTM['geometry'][0]`) which returned a _Shapely geometry_ object from the geodataframe; here our query returns a _GeoSeries_ object. However, other than plotting, the behavior is mostly the same."
   ]
  },
  {
   "cell_type": "code",
   "execution_count": null,
   "metadata": {},
   "outputs": [],
   "source": [
    "#Get the shape of the feature\n",
    "feature_geometry = gdfHUC['geometry'] #->returns a GeoSeries, not a shapely geometry\n",
    "type(feature_geometry)"
   ]
  },
  {
   "cell_type": "code",
   "execution_count": null,
   "metadata": {},
   "outputs": [],
   "source": [
    "#Copy the dfHUC dataframe and then we'll modify geometries\n",
    "gdfHUC_copy = gdfHUC.copy(deep=True)"
   ]
  },
  {
   "cell_type": "code",
   "execution_count": null,
   "metadata": {},
   "outputs": [],
   "source": [
    "#Update geometry to the centroid of each feature buffered 5000m\n",
    "gdfHUC_copy['geometry'] = gdfHUC_copy['geometry'].centroid.buffer(5000)"
   ]
  },
  {
   "cell_type": "code",
   "execution_count": null,
   "metadata": {},
   "outputs": [],
   "source": [
    "#Buffer the centroid\n",
    "theBuffer = theCentroid.buffer(100)\n",
    "#Intersect the buffer and the original shape\n",
    "theClip = gpd.overlay(gdfHUC_copy,gdfHUC,how='intersection')\n",
    "#Show the Clip\n",
    "theClip.plot()"
   ]
  },
  {
   "cell_type": "markdown",
   "metadata": {},
   "source": [
    "## Geospatial capabilities of the GeoPandas dataFrame object"
   ]
  },
  {
   "cell_type": "code",
   "execution_count": null,
   "metadata": {},
   "outputs": [],
   "source": [
    "#Dissolving\n",
    "dfHUC8 = gdf.dissolve(by='HUC_8',aggfunc='sum')\n",
    "dfHUC8.dtypes"
   ]
  },
  {
   "cell_type": "code",
   "execution_count": null,
   "metadata": {},
   "outputs": [],
   "source": [
    "dfHUC8.plot(column='ACRES',\n",
    "            scheme='quantiles',        \n",
    "            figsize=(14,18));"
   ]
  },
  {
   "cell_type": "markdown",
   "metadata": {},
   "source": [
    "## Recap\n",
    "In this super quick introduction to GeoPandas, we saw that the GeoDataFrame is easy to construct from a shapefile, and once constructed gives us access to the analytic capability of Pandas dataframes (e.g. selecting, summarizing, etc.) as well as plotting and spatial analytic capability. \n",
    "\n",
    "I'm hopeful that at the end of this short introduction you're eager to read up on the documentation and learn more what GeoPandas can do. "
   ]
  }
 ],
 "metadata": {
  "kernelspec": {
   "display_name": "Python 3",
   "language": "python",
   "name": "python3"
  },
  "language_info": {
   "codemirror_mode": {
    "name": "ipython",
    "version": 3
   },
   "file_extension": ".py",
   "mimetype": "text/x-python",
   "name": "python",
   "nbconvert_exporter": "python",
   "pygments_lexer": "ipython3",
   "version": "3.6.6"
  }
 },
 "nbformat": 4,
 "nbformat_minor": 2
}
