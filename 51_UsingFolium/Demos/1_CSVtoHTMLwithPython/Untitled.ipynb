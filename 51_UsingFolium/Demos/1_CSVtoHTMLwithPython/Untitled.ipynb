{
 "cells": [
  {
   "cell_type": "code",
   "execution_count": null,
   "metadata": {
    "collapsed": true
   },
   "outputs": [],
   "source": [
    "import pandas as pd\n",
    "import folium\n",
    "from folium.plugins import MarkerCluster"
   ]
  },
  {
   "cell_type": "code",
   "execution_count": null,
   "metadata": {},
   "outputs": [],
   "source": [
    "#Read the data into a Pandas dataFrame\n",
    "df = pd.read_csv('Pennsylvania Oil and Gas Violations.csv')\n",
    "df.shape"
   ]
  },
  {
   "cell_type": "code",
   "execution_count": null,
   "metadata": {},
   "outputs": [],
   "source": [
    "#Remove rows missing lat/long data\n",
    "df.dropna(subset=['latitude','longitude'],axis='rows',how='any',inplace=True)\n",
    "df.shape"
   ]
  },
  {
   "cell_type": "code",
   "execution_count": null,
   "metadata": {},
   "outputs": [],
   "source": [
    "#Get the mean latitude and longitude, to set as the center of the map\n",
    "meanLat = df['latitude'].mean()\n",
    "meanLng = df['longitude'].mean()\n",
    "print(meanLat,meanLng)"
   ]
  },
  {
   "cell_type": "code",
   "execution_count": null,
   "metadata": {},
   "outputs": [],
   "source": [
    "#Create the folium map object\n",
    "wellMap = folium.Map(location=(meanLat,meanLng),zoom_start=7)"
   ]
  },
  {
   "cell_type": "code",
   "execution_count": null,
   "metadata": {
    "collapsed": true
   },
   "outputs": [],
   "source": [
    "#Create a marker cluster object which enables a cleaner display of markers\n",
    "marker_cluster = MarkerCluster()\n",
    "marker_cluster.add_to(wellMap)"
   ]
  },
  {
   "cell_type": "code",
   "execution_count": null,
   "metadata": {
    "collapsed": true
   },
   "outputs": [],
   "source": [
    "#Add as Clustered Markers\n",
    "for row in df[:20].iterrows():\n",
    "    data = row[1] #The data of the row is the 2nd object (1st is the row's index)\n",
    "    #Get the row's data that we want\n",
    "    lat = data['latitude']\n",
    "    lon = data['longitude']\n",
    "    name = data['Viol Id']\n",
    "    #Create a marker\n",
    "    m = folium.Marker((lat,lon),popup=str(name))    \n",
    "    #Add it to the marker cluster object\n",
    "    m.add_to(marker_cluster)"
   ]
  },
  {
   "cell_type": "code",
   "execution_count": null,
   "metadata": {},
   "outputs": [],
   "source": [
    "#Show the well map\n",
    "wellMap"
   ]
  }
 ],
 "metadata": {
  "kernelspec": {
   "display_name": "Python 2",
   "language": "python",
   "name": "python2"
  },
  "language_info": {
   "codemirror_mode": {
    "name": "ipython",
    "version": 2
   },
   "file_extension": ".py",
   "mimetype": "text/x-python",
   "name": "python",
   "nbconvert_exporter": "python",
   "pygments_lexer": "ipython2",
   "version": "2.7.13"
  }
 },
 "nbformat": 4,
 "nbformat_minor": 2
}
