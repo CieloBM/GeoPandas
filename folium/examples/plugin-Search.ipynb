{
 "cells": [
  {
   "cell_type": "code",
   "execution_count": 1,
   "metadata": {},
   "outputs": [
    {
     "name": "stdout",
     "output_type": "stream",
     "text": [
      "0.5.0\n"
     ]
    }
   ],
   "source": [
    "import os\n",
    "import folium\n",
    "\n",
    "\n",
    "print(folium.__version__)"
   ]
  },
  {
   "cell_type": "markdown",
   "metadata": {},
   "source": [
    "# Plugin: leaflet-search\n",
    "\n",
    "## Polygon search layer"
   ]
  },
  {
   "cell_type": "code",
   "execution_count": 2,
   "metadata": {
    "collapsed": true
   },
   "outputs": [],
   "source": [
    "import json\n",
    "\n",
    "\n",
    "with open(os.path.join('data', 'search_states.json')) as f:\n",
    "    states = json.loads(f.read())\n",
    "\n",
    "\n",
    "def getColor(d):\n",
    "    if d > 1000:\n",
    "        return '#800026'\n",
    "    if d > 500:\n",
    "        return '#BD0026'\n",
    "    if d > 200:\n",
    "        return '#E31A1C'\n",
    "    if d > 100:\n",
    "        return '#FC4E2A'\n",
    "    if d > 50:\n",
    "        return '#FD8D3C'\n",
    "    if d > 20:\n",
    "        return '#FEB24C'\n",
    "    if d > 10:\n",
    "        return '#FED976'\n",
    "    else:\n",
    "        return '#FFEDA0'\n",
    "\n",
    "\n",
    "for state in states['features']:\n",
    "    state['properties']['color'] = getColor(state['properties']['density'])"
   ]
  },
  {
   "cell_type": "code",
   "execution_count": 3,
   "metadata": {},
   "outputs": [
    {
     "ename": "AttributeError",
     "evalue": "'module' object has no attribute 'Search'",
     "output_type": "error",
     "traceback": [
      "\u001b[1;31m---------------------------------------------------------------------------\u001b[0m",
      "\u001b[1;31mAttributeError\u001b[0m                            Traceback (most recent call last)",
      "\u001b[1;32m<ipython-input-3-eba2559acbd7>\u001b[0m in \u001b[0;36m<module>\u001b[1;34m()\u001b[0m\n\u001b[0;32m      8\u001b[0m )\n\u001b[0;32m      9\u001b[0m \u001b[1;33m\u001b[0m\u001b[0m\n\u001b[1;32m---> 10\u001b[1;33m \u001b[0mplugins\u001b[0m\u001b[1;33m.\u001b[0m\u001b[0mSearch\u001b[0m\u001b[1;33m(\u001b[0m\u001b[0mstates\u001b[0m\u001b[1;33m,\u001b[0m \u001b[0msearch_zoom\u001b[0m\u001b[1;33m=\u001b[0m\u001b[1;36m6\u001b[0m\u001b[1;33m,\u001b[0m \u001b[0mgeom_type\u001b[0m\u001b[1;33m=\u001b[0m\u001b[1;34m'Polygon'\u001b[0m\u001b[1;33m)\u001b[0m\u001b[1;33m.\u001b[0m\u001b[0madd_to\u001b[0m\u001b[1;33m(\u001b[0m\u001b[0mm\u001b[0m\u001b[1;33m)\u001b[0m\u001b[1;33m\u001b[0m\u001b[0m\n\u001b[0m\u001b[0;32m     11\u001b[0m \u001b[1;33m\u001b[0m\u001b[0m\n\u001b[0;32m     12\u001b[0m \u001b[0mm\u001b[0m\u001b[1;33m.\u001b[0m\u001b[0msave\u001b[0m\u001b[1;33m(\u001b[0m\u001b[0mos\u001b[0m\u001b[1;33m.\u001b[0m\u001b[0mpath\u001b[0m\u001b[1;33m.\u001b[0m\u001b[0mjoin\u001b[0m\u001b[1;33m(\u001b[0m\u001b[1;34m'results'\u001b[0m\u001b[1;33m,\u001b[0m \u001b[1;34m'Plugins_search_polygon.html'\u001b[0m\u001b[1;33m)\u001b[0m\u001b[1;33m)\u001b[0m\u001b[1;33m\u001b[0m\u001b[0m\n",
      "\u001b[1;31mAttributeError\u001b[0m: 'module' object has no attribute 'Search'"
     ]
    }
   ],
   "source": [
    "from folium import plugins\n",
    "\n",
    "\n",
    "m = folium.Map(\n",
    "    location=[37.8, -96],\n",
    "    tiles='cartodbpositron',\n",
    "    zoom_start=3,\n",
    ")\n",
    "\n",
    "plugins.Search(states, search_zoom=6, geom_type='Polygon').add_to(m)\n",
    "\n",
    "m.save(os.path.join('results', 'Plugins_search_polygon.html'))\n",
    "\n",
    "m"
   ]
  },
  {
   "cell_type": "markdown",
   "metadata": {},
   "source": [
    "## Points search layer"
   ]
  },
  {
   "cell_type": "code",
   "execution_count": 4,
   "metadata": {},
   "outputs": [
    {
     "data": {
      "text/html": [
       "<div style=\"width:100%;\"><div style=\"position:relative;width:100%;height:0;padding-bottom:60%;\"><iframe src=\"data:text/html;charset=utf-8;base64,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\" style=\"position:absolute;width:100%;height:100%;left:0;top:0;border:none !important;\" allowfullscreen webkitallowfullscreen mozallowfullscreen></iframe></div></div>"
      ],
      "text/plain": [
       "<folium.folium.Map at 0x7f355b718e10>"
      ]
     },
     "execution_count": 4,
     "metadata": {},
     "output_type": "execute_result"
    }
   ],
   "source": [
    "m = folium.Map(\n",
    "    location=[41.9, 12.5],\n",
    "    tiles='cartodbpositron',\n",
    "    zoom_start=12,\n",
    ")\n",
    "\n",
    "\n",
    "with open(os.path.join('data', 'search_bars_rome.json')) as f:\n",
    "    bars = json.loads(f.read())\n",
    "\n",
    "plugins.Search(bars, search_zoom=20).add_to(m)\n",
    "\n",
    "\n",
    "m.save(os.path.join('results', 'Plugins_search_points.html'))\n",
    "\n",
    "m"
   ]
  }
 ],
 "metadata": {
  "kernelspec": {
   "display_name": "Python 2",
   "language": "python",
   "name": "python2"
  },
  "language_info": {
   "codemirror_mode": {
    "name": "ipython",
    "version": 2
   },
   "file_extension": ".py",
   "mimetype": "text/x-python",
   "name": "python",
   "nbconvert_exporter": "python",
   "pygments_lexer": "ipython2",
   "version": "2.7.13"
  }
 },
 "nbformat": 4,
 "nbformat_minor": 2
}
